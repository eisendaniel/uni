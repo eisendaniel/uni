{
 "cells": [
  {
   "cell_type": "markdown",
   "metadata": {},
   "source": [
    "# ENGR222 Lab 4 - Multiple integrals\n",
    "\n",
    "**Brendan Harding, Victoria University of Wellington**\n",
    "\n",
    "**Last updated: 26th March 2021**\n",
    "\n",
    "\n",
    "## Introduction and foreword\n",
    "\n",
    "Welcome to your fourth ENGR222 computer lab.\n",
    "The aim of this lab is to learn how to estimate double and triple integrals numerically.\n",
    "\n",
    "There are a huge number of methods for estimating integrals numerically, each have their own advantages and disadvantages. \n",
    "Higher dimensional integrals can be challenging to accurately estimate numerically, although most of the examples we will see in two and three dimensions will be okay.\n",
    "We won't delve too much into the specifics of the numerical methods in this lab, instead we will just delve into using the functions `np.trapz`, `quad`, `dblquad` and `tplquad` provided by scipy.\n",
    "\n",
    "Before we get started, let's import matplotlib, numpy and some scipy functions we'll use throughout."
   ]
  },
  {
   "cell_type": "code",
   "execution_count": 1,
   "metadata": {},
   "outputs": [],
   "source": [
    "import numpy as np\n",
    "from scipy.integrate import quad,dblquad,tplquad\n",
    "import matplotlib.pyplot as plt\n",
    "%matplotlib inline"
   ]
  },
  {
   "cell_type": "markdown",
   "metadata": {},
   "source": [
    "## Estimating double integrals via single integrals\n",
    "\n",
    "Just like doing double integrals by hand, the numerical estimation of double integrals can be done by breaking down into an iterated estimation of single integrals.\n",
    "\n",
    "### Double integrals via `quad` and `trapz` over rectangular regions\n",
    "\n",
    "Recall a general double integral over a rectangular region is calculated via \n",
    "$$\\iint_{R}f\\,dA=\\int_{a}^{b}\\int_{c}^{d}f(x,y)\\,dy\\,dx=\\int_{c}^{d}\\int_{a}^{b}f(x,y)\\,dx\\,dy\\,.$$\n",
    "Thinking about the process of evaluating this, considering the order $dy\\,dx$ specifically, we first integrate $f(x,y)$ with respect to $y$ treating $x$ as constant.\n",
    "We could define this result to be \n",
    "$$F(x)=\\int_{c}^{d}f(x,y)\\,dy\\,.$$\n",
    "We could implement the calculation of this $F(x)$ as follows, illustrated using $a=1$, $b=2$, $c=3$, $d=4$ and $f(x,y)=xy$ as an example, i.e. the integral\n",
    "$$\\int_{1}^{2}\\int_{3}^{4}xy\\,dy\\,dx\\,.$$"
   ]
  },
  {
   "cell_type": "code",
   "execution_count": 2,
   "metadata": {},
   "outputs": [
    {
     "name": "stdout",
     "output_type": "stream",
     "text": [
      "17.5\n"
     ]
    }
   ],
   "source": [
    "f = lambda x,y:x*y\n",
    "def F(x):\n",
    "    integrand = lambda y:f(x,y)\n",
    "    result,error = quad(integrand,3,4)\n",
    "    return result\n",
    "print(F(5))"
   ]
  },
  {
   "cell_type": "markdown",
   "metadata": {},
   "source": [
    "Notice we use `quad` here to calculate the integral which required us to define the intermediate function `integrand` which takes in a value `y` and returns `f(x,y)` using the specific `x` passed to the function `F(x)`.\n",
    "\n",
    "We printed `F(5)` which we expect to be for this example\n",
    "$$\\int_3^4 f(5,y)\\,dy=\\int_3^4 5y\\,dy=\\frac{5}{2}(4^2-3^2)=\\frac{35}{2}=17.5 \\,,$$\n",
    "thus we can see the output is exactly what we expect.\n",
    "\n",
    "To complete the double integral we then need only integrate $F(x)$ with respect to $x$ over $x\\in[a,b]$.\n",
    "We can again use `quad` to compute this."
   ]
  },
  {
   "cell_type": "code",
   "execution_count": 3,
   "metadata": {},
   "outputs": [
    {
     "name": "stdout",
     "output_type": "stream",
     "text": [
      "(5.25, 5.828670879282072e-14)\n"
     ]
    }
   ],
   "source": [
    "print(quad(F,1,2))"
   ]
  },
  {
   "cell_type": "markdown",
   "metadata": {},
   "source": [
    "For our example we obtain the result `5.25` which we can easily check.\n",
    "In particular\n",
    "$$\\iint_{R}f\\,dA = \\int_{1}^{2}\\int_{3}^{4}xy\\,dy\\,dx=\\int_{1}^{2}\\frac{7}{2}x\\,dx=\\frac{7}{2}\\cdot\\frac{3}{2}=\\frac{21}{4}=5.25\\,.$$\n",
    "\n",
    "Beware that the estimate of the error provided by the previous cell is not really a complete estimate of the error.\n",
    "In particular, the error from the `quad` call with the `F(x)` function is accumulated when we perform the second integration.\n",
    "We'll shortly see a different way to estimate the same integral which gives a complete error estimate.\n",
    "\n",
    "Note that any numerical method for estimating a single integral can be applied in a similar manner to estimate a double integral.\n",
    "For example, the trapezoidal and Simpson's rules can also be used to estimate a double integral in a similar manner.\n",
    "The following cell illustrates this."
   ]
  },
  {
   "cell_type": "code",
   "execution_count": 4,
   "metadata": {},
   "outputs": [
    {
     "name": "stdout",
     "output_type": "stream",
     "text": [
      "17.5\n",
      "5.25\n"
     ]
    }
   ],
   "source": [
    "xs = np.linspace(1,2,21) # set up a sample of x values\n",
    "ys = np.linspace(3,4,21) # set up a sample of y values\n",
    "def F_trapz(x):\n",
    "    z = f(x,ys)\n",
    "    return np.trapz(z,ys)\n",
    "print(F_trapz(5))\n",
    "z = np.array([F_trapz(x) for x in xs]) # cannot pass xs array directly\n",
    "print(np.trapz(z,xs))"
   ]
  },
  {
   "cell_type": "markdown",
   "metadata": {},
   "source": [
    "Notice we get an exact answer in this case because our simple example function $f(x,y)=xy$ is linear in $x$ and in $y$ when the other variable is held fixed.\n",
    "\n",
    "**Exercise**\n",
    "\n",
    "Try using `quad` and `np.trapz` to estimate some double integrals over rectangular regions. \n",
    "\n",
    " - For example, why don't you try the example from assignment 2 where $f(x,y)=e^{-x}\\cos(y)$ and $R=\\{(x,y):x\\in[0,2]\\,,\\;y\\in[-\\pi/2,\\pi/2]\\}$.\n",
    " - You might also like to try an example which cannot be readily integrated by hand, e.g. $f(x,y)=e^{-y^2}\\sin(x^2)$ over the rectangular region with $x\\in[-5,5]$ and $y\\in[-2,2]$.\n",
    " - Come up with your own examples to try."
   ]
  },
  {
   "cell_type": "code",
   "execution_count": null,
   "metadata": {},
   "outputs": [],
   "source": []
  },
  {
   "cell_type": "code",
   "execution_count": null,
   "metadata": {},
   "outputs": [],
   "source": []
  },
  {
   "cell_type": "code",
   "execution_count": null,
   "metadata": {},
   "outputs": [],
   "source": []
  },
  {
   "cell_type": "markdown",
   "metadata": {},
   "source": [
    "### Double integrals via `quad` and `trapz`  over non-rectangular regions\n",
    "\n",
    "Recall that to calculate a double integral over a non-rectangular region $R$ we needed to first describe $R$ as a type I or type II region which then allowed us to write down an iterated integral which could be evaluated.\n",
    "For example, given a type I region\n",
    "$$R=\\{(x,y):g_1(x)\\leq y\\leq g_2(x)\\,,\\;x\\in[a,b]\\}$$\n",
    "we can evaluate the integral of $f(x,y)$ over $R$ via\n",
    "$$\\iint_{R}f\\,dA = \\int_{a}^{b}\\int_{g_1(x)}^{g_2(x)}f(x,y)\\,dy\\,dx\\,.$$\n",
    "Similarly given a type II region \n",
    "$$R=\\{(x,y):h_1(y)\\leq x\\leq h_2(x)\\,,\\;y\\in[c,d]\\}$$\n",
    "we can evaluate the integral of $f(x,y)$ over $R$ as\n",
    "$$\\iint_{R}f\\,dA = \\int_{c}^{d}\\int_{h_1(y)}^{h_2(y)}f(x,y)\\,dx\\,dy$$\n",
    "To estimate an integral numerically we still need to perform this step, that is we need to express $R$ as a type I or type II region and determine the corresponding order of integration.\n",
    "\n",
    "At this stage, we can again estimate the iterated integral using methods designed for single integrals, but taking care because the integration limits for the first integral now depend on the other variable.\n",
    "That is, considering a type I region, if we define\n",
    "$$F(x)=\\int_{g_1(x)}^{g_2(x)}f(x,y)\\,dy$$\n",
    "we must take care as the two integration limits now depend on $x$.\n",
    "\n",
    "I'll first illustrate using `quad` for the example $f(x,y)=xy$ over the type I region $R=\\{(x,y):-x\\leq y\\leq x^2\\,,\\;x\\in[0,3]\\}$.\n",
    "Note the exact value which we expect is\n",
    "\\begin{align*}\n",
    "\\iint_{R}f\\,dA&=\\int_{0}^{3}\\int_{-x}^{x^2}xy\\,dy\\,dx\\\\\n",
    "&=\\int_{0}^{3}x\\cdot\\frac{1}{2}((x^2)^2-(-x)^2)\\,dx\\\\\n",
    "&=\\left[\\frac{1}{12}x^6-\\frac{1}{8}x^4\\right]_{0}^{3}\\\\\n",
    "&=\\frac{243}{4}-\\frac{81}{8}=\\frac{405}{8}=50.625\\,.\n",
    "\\end{align*}"
   ]
  },
  {
   "cell_type": "code",
   "execution_count": 5,
   "metadata": {},
   "outputs": [
    {
     "name": "stdout",
     "output_type": "stream",
     "text": [
      "(50.625, 5.62979332534061e-13)\n"
     ]
    }
   ],
   "source": [
    "f = lambda x,y:x*y\n",
    "def F(x):\n",
    "    c = -x   # lower limit depends on x\n",
    "    d = x**2 # upper limit also depends on x\n",
    "    integrand = lambda y:f(x,y) # as before\n",
    "    result,error = quad(integrand,c,d) \n",
    "    return result\n",
    "print(quad(F,0,3))"
   ]
  },
  {
   "cell_type": "markdown",
   "metadata": {},
   "source": [
    "The result returned by `quad` in this case is exact because both $f$ and the two integration limits are low degree polynomials (this is a feature of the underlying numerical method). \n",
    "Of course we should not expect to obtain an exact result in general.\n",
    "Again, beware that the error estiate returned here by `quad` in the last line is not expected to describe the complete error.\n",
    "\n",
    "We can similarly estimate this integral using the trapezoidal rule.\n",
    "This is a little trickier in this case, because each time we pass a value $x$ to $F(x)$ we need to set up a new sample of $y$ values because the limits change.\n",
    "I illustrate how this may be done in the following cell for the same example."
   ]
  },
  {
   "cell_type": "code",
   "execution_count": 6,
   "metadata": {},
   "outputs": [
    {
     "name": "stdout",
     "output_type": "stream",
     "text": [
      "50.979185156250004\n"
     ]
    }
   ],
   "source": [
    "xs = np.linspace(0,3,21) # set up a sample of x values as normal\n",
    "def F_trapz(x):\n",
    "    c = -x   # lower limit depends on x\n",
    "    d = x**2 # upper limit also depends on x\n",
    "    ys = np.linspace(c,d,21) # set up a sample of y values here\n",
    "    z = f(x,ys)\n",
    "    return np.trapz(z,ys)\n",
    "z = np.array([F_trapz(x) for x in xs]) # cannot pass xs array directly\n",
    "print(np.trapz(z,xs))"
   ]
  },
  {
   "cell_type": "markdown",
   "metadata": {},
   "source": [
    "The trapezoidal result is not exact any more, but is not too far off.\n",
    "The result can be improved by increasing the number of sample points of the $xs$ and $ys$ intervals.\n",
    "For example, you could try changing from `21` to `101` in both of the `linspace` calls.\n",
    "\n",
    "**Exercise**\n",
    "\n",
    "Try using `quad` and `np.trapz` to estimate some double integrals over non-rectangular regions.\n",
    "\n",
    " - For example, you might like to try the question from assignment 2 with $f(x,y)=\\sin(x+y)$ and the region $R$ is described by the inequalities $x\\geq0$, $y\\geq0$ and $x+y\\leq \\pi$. (Hint: describe as a type I region)\n",
    " - You could also try the estimating the answer to the question asking for the average of $f(x,y)=3y-2x$ over $R=\\{(x,y):0\\leq y\\leq 4-x^2\\,,\\;x\\in[-2,2]\\}$.\n",
    " - Modify the functions provided to estimate an integral over a type II region, for example integrate $f(x,y)=e^{-y^2}\\sin(x^2)$ over $R=\\{(x,y):\\sin(x)\\leq y\\leq 2-x^2\\,,\\;y\\in[-1,1]\\}$.\n",
    " - Come up with some other examples of your own to try."
   ]
  },
  {
   "cell_type": "code",
   "execution_count": null,
   "metadata": {},
   "outputs": [],
   "source": []
  },
  {
   "cell_type": "code",
   "execution_count": null,
   "metadata": {},
   "outputs": [],
   "source": []
  },
  {
   "cell_type": "code",
   "execution_count": null,
   "metadata": {},
   "outputs": [],
   "source": []
  },
  {
   "cell_type": "code",
   "execution_count": null,
   "metadata": {},
   "outputs": [],
   "source": []
  },
  {
   "cell_type": "markdown",
   "metadata": {},
   "source": [
    "## Estimating double integrals with the function `dblquad`\n",
    "\n",
    "The `scipy.integrate` module provides the function `dblquad` (short for *double quad*) which can be applied to integrate double integrals over rectangular and non-rectangular regions.\n",
    "This is convenient, but the way you need to set things up to use `dblquad` takes a little getting used to.\n",
    "The truth is that, under the hood, `dblquad` is really just using `quad` in the same manner described above.\n",
    "\n",
    "### Using `dblquad` to integrate over rectangular regions\n",
    "\n",
    "We'll start by illustrating how to set up an integral over a rectangular region.\n",
    "To calculate in the specific order\n",
    "$$\\int_{a}^{b}\\int_{c}^{d}f(x,y)\\,dy\\,dx$$\n",
    "then you need to define the function $f(x,y)$ with arguments in reverse order, specifically\n",
    "```\n",
    "f = lambda y,x:<your function>\n",
    "```\n",
    "or if using `def`\n",
    "```\n",
    "def f(y,x):\n",
    "    return <your function>\n",
    "```\n",
    "and then call `dblquad` with the arguments\n",
    "```\n",
    "dblquad(f,a,b,c,d)\n",
    "```\n",
    "Just like `quad`, the function `dblquad` returns two numbers, the first is an estimate of the integral and the second is an estimate of the error.\n",
    "The error estimate returned by `dblquad` is relatively reliable, unlike that before when we were evaluating double integrals by using `quad`.\n",
    "\n",
    "Let's try this with our example integrating $f(x,y)=xy$ over $R=\\{(x,y):x\\in[0,1]\\,,\\;y\\in[3,4]\\}$."
   ]
  },
  {
   "cell_type": "code",
   "execution_count": 7,
   "metadata": {},
   "outputs": [
    {
     "data": {
      "text/plain": [
       "(5.25, 7.763123516574449e-14)"
      ]
     },
     "execution_count": 7,
     "metadata": {},
     "output_type": "execute_result"
    }
   ],
   "source": [
    "f = lambda y,x:x*y\n",
    "dblquad(f,1,2,3,4)"
   ]
  },
  {
   "cell_type": "markdown",
   "metadata": {},
   "source": [
    "Two lines of code, that's pretty easy isn't it!\n",
    "\n",
    "Note that if the iterated integral is to be calculated in the reverse order, that is\n",
    "$$\\int_{c}^{d}\\int_{a}^{b}f(x,y)\\,dx\\,dy$$\n",
    "then we define our function with the standard argument order\n",
    "```\n",
    "f = lambda x,y:<your function>\n",
    "```\n",
    "and then call `dblquad` with the arguments\n",
    "```\n",
    "dblquad(f,c,d,a,b)\n",
    "```\n",
    "\n",
    "Here is a good way to remember the required order.\n",
    "\n",
    " - The order of the arguments to `f` corresponds to the order of $dx$ and $dy$ when you write out the integral\n",
    " - The order of the endpoints passed to `dblquad` corresponds to their order when you write out them out with the two integral signes.\n",
    " \n",
    "In other words, given \n",
    "```\n",
    "f = lambda y,x:<your function>\n",
    "```\n",
    "then we have $dA=dy\\,dx$ in that specific order, and consequently we would write the integral as\n",
    "$$\\int_{a}^{b}\\int_{c}^{d}f(x,y)\\,dy\\,dx$$\n",
    "meaning the order of the end points passed to `dblquad` is `a,b,c,d` (after the function itself).\n",
    "\n",
    "Repeating our previous example with the reverse order of integration we have:"
   ]
  },
  {
   "cell_type": "code",
   "execution_count": 8,
   "metadata": {},
   "outputs": [
    {
     "data": {
      "text/plain": [
       "(5.25, 6.657722009550234e-14)"
      ]
     },
     "execution_count": 8,
     "metadata": {},
     "output_type": "execute_result"
    }
   ],
   "source": [
    "f = lambda x,y:x*y\n",
    "dblquad(f,3,4,1,2)"
   ]
  },
  {
   "cell_type": "markdown",
   "metadata": {},
   "source": [
    "Notice that the result is the same but the error estimate is different (although still very small).\n",
    "Just as sometimes a specific order of integration is easier when evaluating integrals by hand, often a specific order of integration produces a better approximation numerically. \n",
    "\n",
    "**Exercise**\n",
    "\n",
    "Use `dblquad` to estimate some of the double integrals over rectangular regions that you considered earlier.\n",
    "\n",
    " - For example, why don't you try the example from assignment 2 where $f(x,y)=e^{-x}\\cos(y)$ and $R=\\{(x,y):x\\in[0,2]\\,,\\;y\\in[-\\pi/2,\\pi/2]\\}$.\n",
    " - You might also like to try an example which cannot be readily integrated by hand, e.g. $f(x,y)=e^{-y^2}\\sin(x^2)$ over the rectangular region with $x\\in[-5,5]$ and $y\\in[-2,2]$.\n",
    " - Come up with your own examples to try.\n"
   ]
  },
  {
   "cell_type": "code",
   "execution_count": null,
   "metadata": {},
   "outputs": [],
   "source": []
  },
  {
   "cell_type": "code",
   "execution_count": null,
   "metadata": {},
   "outputs": [],
   "source": []
  },
  {
   "cell_type": "code",
   "execution_count": null,
   "metadata": {},
   "outputs": [],
   "source": []
  },
  {
   "cell_type": "markdown",
   "metadata": {},
   "source": [
    "### Using `dblquad` for non-rectangular regions\n",
    "\n",
    "Okay, now let's try those pesky non-rectangular regions!\n",
    "\n",
    "Again, we must already have described our region as either type I or type II and determined the corresponding order of integration.\n",
    "For example, if we have a type I region\n",
    "$$R=\\{(x,y):g_1(x)\\leq y\\leq g_2(x)\\,,\\;x\\in[a,b]\\}$$\n",
    "then the integral must be evaluated in the order\n",
    "$$\\iint_{R}f\\,dA = \\int_{a}^{b}\\int_{g_1(x)}^{g_2(x)}f(x,y)\\,dy\\,dx\\,.$$\n",
    "To calculate this with `dblquad`, where we previously passed the endpoints `c,d` we instead pass functions `g1,g2`.\n",
    "As before, with this specific order of integration it is important to define the function `f` with arguments in the same order as $dy\\,dx$, i.e. in the order `y,x`.\n",
    "\n",
    "Let's illustrate with our previous example integrating $f(x,y)=xy$ over $R=\\{(x,y):-x\\leq y\\leq x^2\\,,\\;x\\in[0,3]\\}$."
   ]
  },
  {
   "cell_type": "code",
   "execution_count": 9,
   "metadata": {},
   "outputs": [
    {
     "data": {
      "text/plain": [
       "(50.625, 1.4849073793562537e-12)"
      ]
     },
     "execution_count": 9,
     "metadata": {},
     "output_type": "execute_result"
    }
   ],
   "source": [
    "f = lambda y,x:x*y\n",
    "g1 = lambda x:-x\n",
    "g2 = lambda x:x**2\n",
    "dblquad(f,0,3,g1,g2)"
   ]
  },
  {
   "cell_type": "markdown",
   "metadata": {},
   "source": [
    "We obtain the exact answer in this case, along with an estimate of the error.\n",
    "\n",
    "The process is the same for a type II region having the general form $R=\\{(x,y):h_1(y)\\leq x\\leq h_2(y)\\,,\\;y\\in[c,d]\\}$ excepting we must make sure to change the order of the arguments to `f` and note that the arguments to `dblquad` describing $R$ are passed in the order `c,d,h1,h2`.\n",
    "\n",
    "**Exercise**\n",
    "\n",
    "Use `dblquad` to estimate some double integrals over non-rectangular regions.\n",
    "\n",
    " - For example, you might like to try the question from assignment 2 with $f(x,y)=\\sin(x+y)$ and the region $R$ is described by the inequalities $x\\geq0$, $y\\geq0$ and $x+y\\leq \\pi$. (Hint: describe as a type I region)\n",
    " - You could also try the estimating the answer to the question asking for the average of $f(x,y)=3y-2x$ over $R=\\{(x,y):0\\leq y\\leq 4-x^2\\,,\\;x\\in[-2,2]\\}$.\n",
    " - Try implementing an integral over a type II region, for example integrate $f(x,y)=e^{-y^2}\\sin(x^2)$ over $R=\\{(x,y):\\sin(x)\\leq y\\leq 2-x^2\\,,\\;y\\in[-1,1]\\}$.\n",
    " - Come up with some other examples of your own to try."
   ]
  },
  {
   "cell_type": "code",
   "execution_count": null,
   "metadata": {},
   "outputs": [],
   "source": []
  },
  {
   "cell_type": "code",
   "execution_count": null,
   "metadata": {},
   "outputs": [],
   "source": []
  },
  {
   "cell_type": "code",
   "execution_count": null,
   "metadata": {},
   "outputs": [],
   "source": []
  },
  {
   "cell_type": "code",
   "execution_count": null,
   "metadata": {},
   "outputs": [],
   "source": []
  },
  {
   "cell_type": "markdown",
   "metadata": {},
   "source": [
    "## Estimating double integrals in polar coordinates\n",
    "\n",
    "To estimate a double integral in polar coordinates we essentially just need to do a little work to write down our integral in the form\n",
    "$$\\int_{a}^{b}\\int_{c}^{d}F(r,\\theta)\\,dr\\,d\\theta$$\n",
    "where $r\\in[c,d]$ and $\\theta\\in[a,b]$, assuming here our domain is *rectangular* when expressed in polar coordinates.\n",
    "\n",
    "This could then be implemented as before via\n",
    "```\n",
    "F = lambda r,t:<your function>\n",
    "dblquad(F,a,b,c,d)\n",
    "```\n",
    "Here I use `t` in the argument of `F` as shorthand for theta ($\\theta$).\n",
    "\n",
    "Note that my use of $F$ rather than $f$ was very purposeful here.\n",
    "Given an integral \n",
    "$$\\iint_{R}f\\,dA$$\n",
    "over some $R$ which we assume for the moment can be described in polar coordinates by $r\\in[c,d]$ and $\\theta\\in[a,b]$, then recall that $dA=r\\,dr\\,d\\theta$, and therefore\n",
    "$$\\iint_{R}f\\,dA=\\int_{a}^{b}\\int_{c}^{d}f\\cdot r\\,dr\\,d\\theta\\,.$$\n",
    "In otherwords, the `F` you need to pass to `dblquad` is `r*f`.\n",
    "\n",
    "*To emphasise this point:* the computer doesn't know you are trying to calculate an integral in polar coordinates (changing the argument from `y,x` to `r,t` makes not difference to the computer). \n",
    "It is therefore essential that you modify the function $f(x,y)$ to include the additional factor $r$ that is obtained via $dA=r\\,dr\\,d\\theta$.\n",
    "\n",
    "Let's illustrate with a simple example.\n",
    "Let $R=\\{(x,y):x^2+y^2\\leq 1\\}$, i.e. $R$ is the unit disk centred at the origin.\n",
    "We know the area is $\\pi 1^2=\\pi$ but lets estimate the area using a double integral.\n",
    "\n",
    "First, we could do this directly in Cartesian coordinates by describing $R$ as a type I region, specifically\n",
    "$$R=\\{(x,y):-\\sqrt{1-x^2}\\leq y\\leq \\sqrt{1-x^2}\\,,\\;x\\in[-1,1]\\}\\,,$$\n",
    "so that the area is given by \n",
    "$$|R|=\\iint_{R}\\,dA=\\int_{-1}^{1}\\int_{-\\sqrt{1-x^2}}^{\\sqrt{1-x^2}}\\,dy\\,dx$$\n",
    "which we can implement as"
   ]
  },
  {
   "cell_type": "code",
   "execution_count": 10,
   "metadata": {},
   "outputs": [
    {
     "data": {
      "text/plain": [
       "(3.1415926535897967, 2.000470900043183e-09)"
      ]
     },
     "execution_count": 10,
     "metadata": {},
     "output_type": "execute_result"
    }
   ],
   "source": [
    "f = lambda y,x:1\n",
    "g1 = lambda x:-np.sqrt(1-x**2)\n",
    "g2 = lambda x: np.sqrt(1-x**2)\n",
    "dblquad(f,-1,1,g1,g2)"
   ]
  },
  {
   "cell_type": "markdown",
   "metadata": {},
   "source": [
    "Note that the result is pretty close to $\\pi$ and the error estimate reflects that.\n",
    "\n",
    "Now, let's do this same calculation in polar coordinates. \n",
    "The region may be described by $R=\\{(r,\\theta):r\\in[0,1]\\,,\\;\\theta\\in[0,2\\pi]\\}$ and so\n",
    "$$|R|=\\iint_{R}\\,dA=\\int_{0}^{2\\pi}\\int_{0}^{1}r\\,dr\\,d\\theta$$\n",
    "which we may implement as"
   ]
  },
  {
   "cell_type": "code",
   "execution_count": 11,
   "metadata": {},
   "outputs": [
    {
     "data": {
      "text/plain": [
       "(3.141592653589793, 3.487868498008632e-14)"
      ]
     },
     "execution_count": 11,
     "metadata": {},
     "output_type": "execute_result"
    }
   ],
   "source": [
    "F = lambda r,t:r\n",
    "dblquad(F,0,2*np.pi,0,1)"
   ]
  },
  {
   "cell_type": "markdown",
   "metadata": {},
   "source": [
    "Notice how the $r$ factor is included in the definition of `F`.\n",
    "Also note the error estimate is much smaller, because this integral is much easier to estimate well in polar coordinates.\n",
    "\n",
    "Now, if we were to accidentally leave out the `r` factor from the decfinition of `F` then we obtain and incorrect result:"
   ]
  },
  {
   "cell_type": "code",
   "execution_count": 12,
   "metadata": {},
   "outputs": [
    {
     "data": {
      "text/plain": [
       "(6.283185307179586, 6.975736996017264e-14)"
      ]
     },
     "execution_count": 12,
     "metadata": {},
     "output_type": "execute_result"
    }
   ],
   "source": [
    "F = lambda r,t:1\n",
    "dblquad(F,0,2*np.pi,0,1)"
   ]
  },
  {
   "cell_type": "markdown",
   "metadata": {},
   "source": [
    "Double integrals in polar coordinates can also be estimated using `quad` or `np.trapz` multiple times, similar to what was previously demonstrated, but again one must make sure to account for the factor $r$ that comes from $dA=r\\,dr\\,d\\theta$.\n",
    "We won't go through this in detail and continue to use `dblquad`.\n",
    "\n",
    "For an integral of some $f$ over some region in polar coordiantes which is non-rectangular and has the form\n",
    "$$R=\\{(r,\\theta):g_1(\\theta)\\leq r\\leq g_2(\\theta)\\,,\\;\\theta\\in[c,d]\\}$$\n",
    "then this is implemented like any other non-rectangular region, e.g.\n",
    "```\n",
    "F = lambda r,t:<your function f multiplied by r>\n",
    "g1 = lambda t:<lower limit>\n",
    "g2 = lambda t:<upper limit>\n",
    "dblquad(F,c,d,g1,g2)\n",
    "```\n",
    "\n",
    "Similar applies for a region\n",
    "$$R=\\{(r,\\theta):h_1(r)\\leq \\theta\\leq h_2(r)\\,,\\;r\\in[a,b]\\}$$\n",
    "by changing the order of arguments in `F` and passing the integration limits to `dblquad` in the order `a,b,h1,h2`.\n",
    "Regions of this form don't come up very often though.\n",
    "\n",
    "Let's consider the example in the notes integrating $f(x,y)=2x+3y+5$ over the sea shell like shape $R=\\{(r\\theta):0\\leq r\\leq\\theta/\\pi\\,,\\;\\theta\\in[0,2\\pi]\\}$.\n",
    "Recall that one obtains\n",
    "$$\\iint_{R}f\\,dA = \\int_{0}^{2\\pi}\\int_{0}^{\\theta/\\pi}(2r\\cos(\\theta)+3r\\sin(\\theta)+5)r\\,dr\\,d\\theta$$\n",
    "which we implement as"
   ]
  },
  {
   "cell_type": "code",
   "execution_count": 13,
   "metadata": {},
   "outputs": [
    {
     "data": {
      "text/plain": [
       "(16.706284317110335, 1.8547701504790054e-13)"
      ]
     },
     "execution_count": 13,
     "metadata": {},
     "output_type": "execute_result"
    }
   ],
   "source": [
    "F = lambda r,t:(2*r*np.cos(t)+3*r*np.sin(t)+5)*r\n",
    "g1 = lambda t:0\n",
    "g2 = lambda t:t/np.pi\n",
    "dblquad(F,0,2*np.pi,g1,g2)"
   ]
  },
  {
   "cell_type": "markdown",
   "metadata": {},
   "source": [
    "The exact answer found there is $\\frac{8}{\\pi}+\\frac{12}{\\pi}^2-8+\\frac{20\\pi}{3}\\approx 16.71$ so the estimate is the same when rounded to two decimal places.\n",
    "\n",
    "Again, notice how the factor $r$ coming from $dA$ was included in defining `F`.\n",
    "\n",
    "It is worth noting, we don't need to explicitly write out our function in polar coordinates, we could, for example do the following instead."
   ]
  },
  {
   "cell_type": "code",
   "execution_count": 14,
   "metadata": {},
   "outputs": [
    {
     "data": {
      "text/plain": [
       "(16.706284317110335, 1.8547701504790054e-13)"
      ]
     },
     "execution_count": 14,
     "metadata": {},
     "output_type": "execute_result"
    }
   ],
   "source": [
    "f = lambda x,y:2*x+3*y+5\n",
    "F = lambda r,t:f(r*np.cos(t),r*np.sin(t))*r\n",
    "g1 = lambda t:0\n",
    "g2 = lambda t:t/np.pi\n",
    "dblquad(F,0,2*np.pi,g1,g2)"
   ]
  },
  {
   "cell_type": "markdown",
   "metadata": {},
   "source": [
    "That is, we can define $f$ in Cartesian coordinates as given, then define $F$ such that it passes $x=r\\cos(\\theta)$ and $y=r\\sin(\\theta)$ to $f$, along with multiplying the result by $r$.\n",
    "\n",
    "While this is perfectly fine and can make things easier in some cases, it is worth noting that if $f$ happens to have a simpler expression in polar coordinates then it is generally better to use that directly.\n",
    "\n",
    "**Exercise**\n",
    "\n",
    "Numerically estimate the following integrals in polar coordinates.\n",
    "\n",
    " - Integrate $f(x,y)=e^{-x^2-y^2}$ over the annular region described by $2\\leq x^2+y^2\\leq 3$.\n",
    " - Integrate $f(x,y)=\\sin(y)e^{x}$ over the region described in polar coordinated by $R=\\{(r,\\theta):r\\leq\\theta\\leq r^2\\,,\\;r\\in[1,\\pi]\\}$.\n",
    " - Come up with some examples of your own.\n"
   ]
  },
  {
   "cell_type": "code",
   "execution_count": null,
   "metadata": {},
   "outputs": [],
   "source": []
  },
  {
   "cell_type": "code",
   "execution_count": null,
   "metadata": {},
   "outputs": [],
   "source": []
  },
  {
   "cell_type": "code",
   "execution_count": null,
   "metadata": {},
   "outputs": [],
   "source": []
  },
  {
   "cell_type": "markdown",
   "metadata": {},
   "source": [
    "## Numerical estimation of triple integrals\n",
    "\n",
    "We will first consider evaluating triple integrals over rectangles using `quad` and `np.trapz`.\n",
    "\n",
    "### Estimating triple integrals over rectangular regions using `quad` and `np.trapz`\n",
    "\n",
    "Conside the triple integral\n",
    "$$\\int_{a}^{b}\\int_{c}^{d}\\int_{k}^{l}f(x,y,z)\\,dz\\,dy\\,dx$$\n",
    "We can estimate this integral using single integral methods in an analogous manner to what was discussed for double integrals.\n",
    "In particular we can define a function \n",
    "$$F(x,y)=\\int_{k}^{l}f(x,y,z)\\,dz$$\n",
    "which could be estimated numerically via the following code\n",
    "```\n",
    "f = lambda x,y,z:<your function>\n",
    "def F(x,y):\n",
    "    integrand = lambda z:f(x,y,z)\n",
    "    result,error = quad(integrand,k,l)\n",
    "    return result\n",
    "```\n",
    "Subsequently we can define\n",
    "$$G(x)=\\int_{c}^{d}F(x,y)\\,dy$$\n",
    "which can be numerically estimated via\n",
    "```\n",
    "def G(x):\n",
    "    integrand = lambda y:F(x,y)\n",
    "    result,error = quad(integrand,c,d)\n",
    "    return result\n",
    "```\n",
    "Lastly we estimate $\\int_{a}^{b}G(x)\\,dx$ via\n",
    "```\n",
    "quad(G,a,b)\n",
    "```\n",
    "Let's illustrate this for the practice question $f(x,y,z)=xz^2e^{xyz}$ over $G=\\{(x,y,z):x\\in[0,1]\\,,\\;y\\in[0,2]\\,,\\;z\\in[0,3]\\}$."
   ]
  },
  {
   "cell_type": "code",
   "execution_count": 15,
   "metadata": {},
   "outputs": [
    {
     "data": {
      "text/plain": [
       "(94.60719837318378, 1.0503508992918829e-12)"
      ]
     },
     "execution_count": 15,
     "metadata": {},
     "output_type": "execute_result"
    }
   ],
   "source": [
    "f = lambda x,y,z:x*z**2*np.exp(x*y*z)\n",
    "def F(x,y):\n",
    "    integrand = lambda z:f(x,y,z)\n",
    "    result,error = quad(integrand,0,3)\n",
    "    return result\n",
    "def G(x):\n",
    "    integrand = lambda y:F(x,y)\n",
    "    result,error = quad(integrand,0,2)\n",
    "    return result\n",
    "quad(G,0,1)"
   ]
  },
  {
   "cell_type": "markdown",
   "metadata": {},
   "source": [
    "We can do something similar using `np.trapz` as illustrated below."
   ]
  },
  {
   "cell_type": "code",
   "execution_count": 16,
   "metadata": {},
   "outputs": [
    {
     "name": "stdout",
     "output_type": "stream",
     "text": [
      "96.29142732785269\n"
     ]
    }
   ],
   "source": [
    "f = lambda x,y,z:x*z**2*np.exp(x*y*z)\n",
    "xs = np.linspace(0,1,21) # set up a sample of x values\n",
    "ys = np.linspace(0,2,21) # set up a sample of y values\n",
    "zs = np.linspace(0,3,21) # set up a sample of z values\n",
    "def F_trapz(x,y):\n",
    "    u = f(x,y,zs)\n",
    "    return np.trapz(u,zs)\n",
    "def G_trapz(x):\n",
    "    u = np.array([F_trapz(x,y) for y in ys]) # cannot pass ys array directly\n",
    "    return np.trapz(u,ys)\n",
    "u = np.array([G_trapz(x) for x in xs]) # cannot pass xs array directly\n",
    "print(np.trapz(u,xs))"
   ]
  },
  {
   "cell_type": "markdown",
   "metadata": {},
   "source": [
    "The estimate is not great using `np.trapz` but can be improved by increasing the number of sample points from 21 to say 101 in each of the three arrays.\n",
    "It quickly becomes a computationally intensive task to calculate an approximation with a large nuber of sample points.\n",
    "Using 1001 sample points for xs,ys,zs will likely take over a minute to complete!\n",
    "\n",
    "This is a general drawback of numerical integration in higher dimensions, it becomes more and more expensive, at an exponential rate, to estimate in this manner.\n",
    "There are many methods for high dimensional quadrature and it remains an active research area (I did my PhD on a numerical method sometimes used for high dimensional quadrature).\n",
    "We won't go into these, fortunately `quad`, `dblquad` and `tplquad` are are reasonably accurate and sufficient that they provide a reasonable result in relatively little time for 1, 2 and 3 dimensional integrals.\n",
    "\n",
    "**Exercise**\n",
    "\n",
    "Have a go at the following triple integrals over rectangular regions using `quad` and `np.trapz`.\n",
    "\n",
    " - Try the example from the notes, integrate $f(x,y,z)=xy^2z^3$ over $G=\\{(x,y,z):x,y,z\\in[0,1]\\}$.\n",
    " - Try the example from the notes, integrate $f(x,y,z)=\\sin(x+y+z)$ over $G=\\{(x,y,z):x,y,z\\in[0,\\pi/2]\\}$.\n",
    " - Try an example that can't be evaluated by hand, integrate $f(x,y,z)=e^{x\\sin(y)\\cos(z)}$ over $G=\\{(x,y,z):x\\in[0,2]\\,,\\;y\\in[-\\pi,\\pi]\\,,\\;z\\in[0,2\\pi]\\}$.\n",
    " - Try some examples of your own.\n"
   ]
  },
  {
   "cell_type": "code",
   "execution_count": null,
   "metadata": {},
   "outputs": [],
   "source": []
  },
  {
   "cell_type": "code",
   "execution_count": null,
   "metadata": {},
   "outputs": [],
   "source": []
  },
  {
   "cell_type": "code",
   "execution_count": null,
   "metadata": {},
   "outputs": [],
   "source": []
  },
  {
   "cell_type": "code",
   "execution_count": null,
   "metadata": {},
   "outputs": [],
   "source": []
  },
  {
   "cell_type": "markdown",
   "metadata": {},
   "source": [
    "### Triple integrals using `quad` and `trapz` over non-rectangular regions.\n",
    "\n",
    "To numerically estimate a triple integral over a non-rectangular region $G$ we must again start by coming up with a suitable description of the region $G$.\n",
    "For example, one of the six possible descriptions in general is\n",
    "$$G=\\left\\{(x,y,z):\\begin{array}{c}h_1(x,y)\\leq z\\leq h_2(x,y)\\\\g_1(x)\\leq y\\leq g_2(x)\\\\a\\leq x\\leq b\\end{array}\\right\\}\\,.$$\n",
    "This description requires integrating with respect to $z$ first, $y$ second and $x$ third.\n",
    "Specifically\n",
    "$$\\iiint_{G}f\\,dV = \\int_{a}^{b}\\int_{g_1(x)}^{g_2(x)}\\int_{h_1(x,y)}^{h_2(x,y)}f(x,y,z)\\,dz\\,dy\\,dx \\,.$$\n",
    "The other five possibilities are obtained by permuting $x,y,z$.\n",
    "\n",
    "Sticking with the specific description of $G$ above, we can implement the approximation of this using `\\quad` several times using the same code above for a rectangular region, but taking a little care with the integration domains.\n",
    "\n",
    "We'll illustrate using the example in the course notes in which we integrated $f(x,y,z)=1+x+y+z$ over \n",
    "$$G=\\left\\{(x,y,z):\\begin{array}{c}2x+3y\\leq z\\leq 5x+7y+10\\\\-1-x\\leq y\\leq 1+x\\\\0\\leq x\\leq 2\\end{array}\\right\\}\\,.$$"
   ]
  },
  {
   "cell_type": "code",
   "execution_count": 17,
   "metadata": {},
   "outputs": [
    {
     "data": {
      "text/plain": [
       "(1568.0, 1.7408297026122455e-11)"
      ]
     },
     "execution_count": 17,
     "metadata": {},
     "output_type": "execute_result"
    }
   ],
   "source": [
    "f = lambda x,y,z:1+x+y+z\n",
    "h1 = lambda x,y:2*x+3*y\n",
    "h2 = lambda x,y:5*x+7*y+10\n",
    "g1 = lambda x:-1-x\n",
    "g2 = lambda x:1+x\n",
    "def F(x,y):\n",
    "    integrand = lambda z:f(x,y,z)\n",
    "    result,error = quad(integrand,h1(x,y),h2(x,y))\n",
    "    return result\n",
    "def G(x):\n",
    "    integrand = lambda y:F(x,y)\n",
    "    result,error = quad(integrand,g1(x),g2(x))\n",
    "    return result\n",
    "quad(G,0,2)"
   ]
  },
  {
   "cell_type": "markdown",
   "metadata": {},
   "source": [
    "We obtain the exact result obtained in the notes in this case (due to the fact our integral and the description of $G$ involves linear functions only).\n",
    "\n",
    "Similarly we can adapt out code that used `np.trapz` in a similar manner."
   ]
  },
  {
   "cell_type": "code",
   "execution_count": 18,
   "metadata": {},
   "outputs": [
    {
     "name": "stdout",
     "output_type": "stream",
     "text": [
      "1570.7015999999999\n"
     ]
    }
   ],
   "source": [
    "f = lambda x,y,z:1+x+y+z\n",
    "h1 = lambda x,y:2*x+3*y\n",
    "h2 = lambda x,y:5*x+7*y+10\n",
    "g1 = lambda x:-1-x\n",
    "g2 = lambda x:1+x\n",
    "xs = np.linspace(0,2,21) # set up a sample of x values\n",
    "def F_trapz(x,y):\n",
    "    zs = np.linspace(h1(x,y),h2(x,y),21) # z samples depend on x,y\n",
    "    u = f(x,y,zs)\n",
    "    return np.trapz(u,zs)\n",
    "def G_trapz(x):\n",
    "    ys = np.linspace(g1(x),g2(x),21) # y samples depend on x\n",
    "    u = np.array([F_trapz(x,y) for y in ys]) # cannot pass ys array directly\n",
    "    return np.trapz(u,ys)\n",
    "u = np.array([G_trapz(x) for x in xs]) # cannot pass xs array directly\n",
    "print(np.trapz(u,xs))"
   ]
  },
  {
   "cell_type": "markdown",
   "metadata": {},
   "source": [
    "Our estimate using `np.trapz` is a little bit off but again can be improved by increasing the number of samples used in each of the intervals.\n",
    "Again, this can quickly become a computationally expensive operation and using `quad` will be the much better option.\n",
    "\n",
    "**Exercise**\n",
    "\n",
    "Try using `np.quad` and `np.trapz` to evaluate triple integrals as illustrated above to answer the following questions.\n",
    "\n",
    " - Consider the example from the practice questions calculating the integral of $f(x,y,z)=\\sin(z/x)$ over \n",
    "$$G=\\{(x,y,z):0\\leq z\\leq xy\\,,\\;0\\leq y\\leq x\\,,\\;\\pi/6\\leq x\\leq \\pi/2\\}\\,.$$\n",
    " - Calculate the integral of $f(x,y,z)=xz/(1+z^2)$ over the region described by the inequalities $x,y,z\\geq 0$, $z\\leq 8-x^2-y^2$ and $x+y\\leq 2$.\\\n",
    "*Hint: start by coming up with a suitable description of $G$.*\n",
    " - Calculate the integral of $f(x,y,z)=e^{x\\sin(y)\\cos(z)}$ over the region\n",
    "$$G=\\{(x,y,z):xz\\leq y\\leq 10\\,,\\;0\\leq x\\leq z^2\\,,\\;z\\in[0,2]\\}\\,.$$\n",
    "Note the specific description of $G$ will necessitate a different order of integration than that considered so far.\n",
    " - Try some examples of your own\n"
   ]
  },
  {
   "cell_type": "code",
   "execution_count": null,
   "metadata": {},
   "outputs": [],
   "source": []
  },
  {
   "cell_type": "code",
   "execution_count": null,
   "metadata": {},
   "outputs": [],
   "source": []
  },
  {
   "cell_type": "code",
   "execution_count": null,
   "metadata": {},
   "outputs": [],
   "source": []
  },
  {
   "cell_type": "code",
   "execution_count": null,
   "metadata": {},
   "outputs": [],
   "source": []
  },
  {
   "cell_type": "markdown",
   "metadata": {},
   "source": [
    "### Triple integrals using `tplquad`\n",
    "\n",
    "Just like `dblquad`, scipy provides a function `tplquad` for computing triple integrals. \n",
    "Just like `dblquad`, the function `tplquad` essentially just uses `quad` repeatedly under the hood similar to what we have done above, but it also produces a reliable estimate of the error of the result.\n",
    "\n",
    "The use of `tplquad` is similar to `dblquad`, we again need to define the function we wish to integrate with arguments in a specific order relating to the order of integration. \n",
    "Additionally, the arguments for the integration limits are in the order they would appear when writing out the triple integral as an iterated integral.\n",
    "\n",
    "For example, for triple integral over a rectangular region in the specific order prescribed by\n",
    "$$\\int_{c}^{d}\\int_{k}^{l}\\int_{a}^{b}f(x,y,z)\\,dy\\,dz\\,dx$$\n",
    "then the order of arguments to when we define `f` must be the same as the order $dy\\,dz\\,dx$, i.e. `f = lambda y,z,x:<you function>`, and additionally, the order of the integration limits to `tplquad` will be `c,d,k,l,a,b`.\n",
    "\n",
    "For example, revisiting the integral of $f(x,y,z)=xz^2e^{xyz}$ over $G=\\{(x,y,z):x\\in[0,1]\\,,\\;y\\in[0,2]\\,,\\;z\\in[0,3]\\}$ could be implelemted using the order of integration $y,z,x$ described above as"
   ]
  },
  {
   "cell_type": "code",
   "execution_count": 19,
   "metadata": {},
   "outputs": [
    {
     "data": {
      "text/plain": [
       "(94.60719837318379, 1.3029983831315027e-11)"
      ]
     },
     "execution_count": 19,
     "metadata": {},
     "output_type": "execute_result"
    }
   ],
   "source": [
    "f = lambda y,z,x:x*z**2*np.exp(x*y*z)\n",
    "tplquad(f,0,1,0,3,0,2)"
   ]
  },
  {
   "cell_type": "markdown",
   "metadata": {},
   "source": [
    "Alternatively, using the order of integration $z,y,x$ we implement as"
   ]
  },
  {
   "cell_type": "code",
   "execution_count": 20,
   "metadata": {},
   "outputs": [
    {
     "data": {
      "text/plain": [
       "(94.60719837318378, 1.4191639478400199e-11)"
      ]
     },
     "execution_count": 20,
     "metadata": {},
     "output_type": "execute_result"
    }
   ],
   "source": [
    "f = lambda z,y,x:x*z**2*np.exp(x*y*z)\n",
    "tplquad(f,0,1,0,2,0,3)"
   ]
  },
  {
   "cell_type": "markdown",
   "metadata": {},
   "source": [
    "Similar applies for integrals over non-rectangular regions.\n",
    "For example, the triple integral\n",
    "$$\\int_{c}^{d}\\int_{g_1(x)}^{g_2(x)}\\int_{h_1(x,y)}^{h_2(x,y)}f(x,y,z)\\,dz\\,dy\\,dx$$\n",
    "must also have `f` defined with arguments ordered as `f = lambda z,y,x:<you function>` and the order of the integration limits in `tplquad` are `c,d,g1,g2,h1,h2` (with each of `g1,g2,h1,h2` appropriately defined beforehand).\n",
    "\n",
    "Let's integrate $f(x,y,z)=1+x+y^2+z^3$ over \n",
    "$$G=\\left\\{(x,y,z):\\begin{array}{c}2x+3y\\leq z\\leq 5x+7y+10\\\\-1-x\\leq y\\leq 1+x\\\\0\\leq x\\leq 2\\end{array}\\right\\}\\,.$$\n",
    "(Note this is similar to the previous example except I've modified the function $f(x,y,z)$).\\\n",
    "The triple integral $\\iiint_{G}f\\,dV$ may be implemented using `tplquad` as"
   ]
  },
  {
   "cell_type": "code",
   "execution_count": 21,
   "metadata": {},
   "outputs": [
    {
     "data": {
      "text/plain": [
       "(466554.4000000001, 9.067396808311461e-09)"
      ]
     },
     "execution_count": 21,
     "metadata": {},
     "output_type": "execute_result"
    }
   ],
   "source": [
    "f = lambda z,y,x:1+x+y**2+z**3\n",
    "h1 = lambda x,y:2*x+3*y\n",
    "h2 = lambda x,y:5*x+7*y+10\n",
    "g1 = lambda x:-1-x\n",
    "g2 = lambda x:1+x\n",
    "tplquad(f,0,2,g1,g2,h1,h2)"
   ]
  },
  {
   "cell_type": "markdown",
   "metadata": {},
   "source": [
    "Notice that the order of the arguments to the function `h1` and `h2` are the reverse order to the last two arguments to `f`.\n",
    "\n",
    "Thus, if we were to consider an integral requiring a different order of integration, for example integrating the same $f(x,y,z)=1+x+y^2+z^3$ but this time over the region\n",
    "$$G=\\{(x,y,z):\\sin(x+z)\\leq y\\leq 2\\,,\\;-z\\leq x\\leq z^2\\,,\\; 0\\leq z\\leq 2\\pi\\}$$\n",
    "then this would be expressed as the iterated integral\n",
    "$$\\int_{0}^{2\\pi}\\int_{-z^2}^{z^3}\\int_{\\sin(x+z)}^{2}1+x+y^2+z^3\\,dy\\,dx\\,dz$$\n",
    "which may be implemented as follows:"
   ]
  },
  {
   "cell_type": "code",
   "execution_count": 22,
   "metadata": {},
   "outputs": [
    {
     "data": {
      "text/plain": [
       "(26423.10643797841, 0.00018506358558483763)"
      ]
     },
     "execution_count": 22,
     "metadata": {},
     "output_type": "execute_result"
    }
   ],
   "source": [
    "f = lambda y,x,z:1+x+y**2+z**3\n",
    "h1 = lambda z,x:np.sin(x+z)\n",
    "h2 = lambda z,x:2\n",
    "g1 = lambda z:-z\n",
    "g2 = lambda z:z**2\n",
    "tplquad(f,0,2*np.pi,g1,g2,h1,h2)"
   ]
  },
  {
   "cell_type": "markdown",
   "metadata": {},
   "source": [
    "Notice in particular the specific order of arguments to each of `f`, `h1` and `h2` in relation to this integral.\n",
    "\n",
    "You might also notice that the error estimate is not as small as it has been in many other examples, although it is still small relative to the actual result.\n",
    "\n",
    "It is worth noting that some integrals will take `tplquad` many seconds to evaluate, and in really bad cases several minutes. In such cases the error estimate will generally be larger relative to the result, and potentially scipy will produce a pink warning if it is particularly worried about the accuracy of the result.\n",
    "\n",
    "**Exercises:**\n",
    "\n",
    "Use `tplquad` to evaluate the various triple integrals already considered above (over both rectangular and non-rectangular regions).\n",
    "\n",
    " - Try the example from the notes, integrate $f(x,y,z)=xy^2z^3$ over $G=\\{(x,y,z):x,y,z\\in[0,1]\\}$.\n",
    " - Try the example from the notes, integrate $f(x,y,z)=\\sin(x+y+z)$ over $G=\\{(x,y,z):x,y,z\\in[0,\\pi/2]\\}$.\n",
    " - Try an example that can't be evaluated by hand, integrate $f(x,y,z)=e^{x\\sin(y)\\cos(z)}$ over $G=\\{(x,y,z):x\\in[0,2]\\,,\\;y\\in[-\\pi,\\pi]\\,,\\;z\\in[0,2\\pi]\\}$.\n",
    " - Consider the example from the practice questions calculating the integral of $f(x,y,z)=\\sin(z/x)$ over \n",
    "$$G=\\{(x,y,z):0\\leq z\\leq xy\\,,\\;0\\leq y\\leq x\\,,\\;\\pi/6\\leq x\\leq \\pi/2\\}\\,.$$\n",
    " - Calculate the integral of $f(x,y,z)=xz/(1+z^2)$ over the region described by the inequalities $x,y,z\\geq 0$, $z\\leq 8-x^2-y^2$ and $x+y\\leq 2$.\\\n",
    "*Hint: start by coming up with a suitable description of $G$.*\n",
    " - Calculate the integral of $f(x,y,z)=e^{x\\sin(y)\\cos(z)}$ over the region\n",
    "$$G=\\{(x,y,z):xz\\leq y\\leq 10\\,,\\;0\\leq x\\leq z^2\\,,\\;z\\in[0,2]\\}\\,.$$\n",
    "Note the specific description of $G$ will necessitate a different order of integration than that considered so far.\n",
    " - Try some examples of your own\n"
   ]
  },
  {
   "cell_type": "code",
   "execution_count": null,
   "metadata": {},
   "outputs": [],
   "source": []
  },
  {
   "cell_type": "code",
   "execution_count": null,
   "metadata": {},
   "outputs": [],
   "source": []
  },
  {
   "cell_type": "code",
   "execution_count": null,
   "metadata": {},
   "outputs": [],
   "source": []
  },
  {
   "cell_type": "code",
   "execution_count": null,
   "metadata": {},
   "outputs": [],
   "source": []
  },
  {
   "cell_type": "code",
   "execution_count": null,
   "metadata": {},
   "outputs": [],
   "source": []
  },
  {
   "cell_type": "code",
   "execution_count": null,
   "metadata": {},
   "outputs": [],
   "source": []
  },
  {
   "cell_type": "code",
   "execution_count": null,
   "metadata": {},
   "outputs": [],
   "source": []
  },
  {
   "cell_type": "markdown",
   "metadata": {},
   "source": [
    "### Triple integrals in cylindrical and spherical coordinates using `tplquad`\n",
    "\n",
    "This is much like the situation when estimating double integrals in polar coordinates.\n",
    "The important thing is to make sure to \n",
    "\n",
    " - multiply be the factor $r$ coming from $dV=r\\,dr\\,d\\theta\\,d\\zeta$ when integrating in cylindrical coordiantes, and\n",
    " - multiply by the factor $r^2\\sin(\\phi)$ coming from $dV=r^2\\sin(\\phi)\\,dr\\,d\\theta\\,d\\phi$ when integrating in spherical coordinates.\n",
    " \n",
    "Otherwise, given a suitable description of $G$ in your chosen coordinate system the implementation, for both rectangular and non-rectangular regions, is the same as that described above.\n",
    "\n",
    "Let's illustrate with some examples.\n",
    "\n",
    "Consider the example from the notes integrating $f(x,y,z)=ze^{x^2+y^2}$ over the region described by the inequalities $1\\leq x^2+y^2\\leq 2$ and $0\\leq z\\leq 10$.\\\n",
    "Expressed in cylindrical coordiantes $r,\\theta,\\zeta$ we have $f=\\zeta e^{r^2}$ and \n",
    "$$G=\\{(r,\\theta,\\zeta):r\\in[1,2]\\,,\\;\\theta\\in[0,2\\pi]\\,,\\;\\zeta\\in[0,10]\\}\\,.$$\n",
    "Recalling that $dV=r\\,dr\\,d\\theta\\,d\\zeta$ the integral may be implemented as"
   ]
  },
  {
   "cell_type": "code",
   "execution_count": 23,
   "metadata": {},
   "outputs": [
    {
     "data": {
      "text/plain": [
       "(8149.270641052285, 9.047507899598056e-11)"
      ]
     },
     "execution_count": 23,
     "metadata": {},
     "output_type": "execute_result"
    }
   ],
   "source": [
    "f = lambda r,t,z:z*np.exp(r**2)*r # notice the r factor \n",
    "tplquad(f,0,10,0,2*np.pi,1,2)"
   ]
  },
  {
   "cell_type": "markdown",
   "metadata": {},
   "source": [
    "Consider the example from the notes integrating $f(x,y,z)=x^2+y^2+z^2$ over the region described by $x^2+y^2+z^2\\leq 1$.\\\n",
    "Expressed in spherical coordiante $r,\\theta,\\phi$ we have $f=r^2$ and \n",
    "$$G=\\{(r,\\theta,\\phi):r\\in[0,3]\\,,\\;\\theta\\in[0,2\\pi]\\,,\\;\\phi\\in[0,\\pi]\\}\\,.$$\n",
    "Recalling that $dV=r^2\\sin(\\phi)\\,dr\\,d\\theta\\,d\\phi$ then the integral may be implemented as"
   ]
  },
  {
   "cell_type": "code",
   "execution_count": 24,
   "metadata": {},
   "outputs": [
    {
     "data": {
      "text/plain": [
       "(610.7256118578557, 6.780416360128779e-12)"
      ]
     },
     "execution_count": 24,
     "metadata": {},
     "output_type": "execute_result"
    }
   ],
   "source": [
    "f = lambda r,t,p:r**4*np.sin(p) # notice the r^2 sin(p) factor\n",
    "tplquad(f,0,np.pi,0,2*np.pi,0,3)"
   ]
  },
  {
   "cell_type": "markdown",
   "metadata": {},
   "source": [
    "We could also attempt to evaluate the integral directly in Cartesian coordinates by describing $G$ in the form\n",
    "$$G\\{(x,y,z):-\\sqrt{9-x^2-y^2}\\leq z\\leq\\sqrt{9-x^2-y^2}\\,,\\;-\\sqrt{9-x^2}\\leq y\\leq\\sqrt{9-x^2}\\,,\\;x\\in[-3,3]\\}$$\n",
    "which may be implemented as"
   ]
  },
  {
   "cell_type": "code",
   "execution_count": 25,
   "metadata": {},
   "outputs": [
    {
     "data": {
      "text/plain": [
       "(610.725611857824, 1.0112702710785015e-06)"
      ]
     },
     "execution_count": 25,
     "metadata": {},
     "output_type": "execute_result"
    }
   ],
   "source": [
    "f = lambda y,x,z:x**2+y**2+z**2\n",
    "h1 = lambda x,y:-np.sqrt(9-x**2-y**2)\n",
    "h2 = lambda x,y:np.sqrt(9-x**2-y**2)\n",
    "g1 = lambda x:-np.sqrt(9-x**2)\n",
    "g2 = lambda x:np.sqrt(9-x**2)\n",
    "tplquad(f,-3,3,g1,g2,h1,h2)"
   ]
  },
  {
   "cell_type": "markdown",
   "metadata": {},
   "source": [
    "Notice that not only does this take extra lines of code, the error estimate is not so good (although the actual result doesn't differ to much from that obtained above).\n",
    "\n",
    "Notice that for more complicated functions $f(x,y,z)$ we don't need to explicitly write it out in spherical coordinates (and similar applies for cylindrical coordaintes).\n",
    "\n",
    "For example, consider the integral of $f(x,y,z)=x^2y^4z^6$ over the unit ball $x^2+y^2+z^2\\leq1$. \n",
    "The region $G$ is most easily described in spherical coordinates, but the desciption of $f$ in spherical coordinates is not so simple, specifically $f(r,\\theta,\\phi)=r^12\\cos(\\theta)^2\\sin(\\theta)^4\\cos(\\phi)^6\\sin(\\phi)^6$.\n",
    "We can implement as follows:"
   ]
  },
  {
   "cell_type": "code",
   "execution_count": 26,
   "metadata": {},
   "outputs": [
    {
     "data": {
      "text/plain": [
       "(0.0002789737066124804, 5.491227747901964e-09)"
      ]
     },
     "execution_count": 26,
     "metadata": {},
     "output_type": "execute_result"
    }
   ],
   "source": [
    "f = lambda x,y,z:x**2*y**4*z**6\n",
    "def F(r,t,p):\n",
    "    x = r*np.cos(t)*np.sin(p)\n",
    "    y = r*np.sin(t)*np.sin(p)\n",
    "    z = r*np.cos(p)\n",
    "    return f(x,y,z)*r**2*np.sin(p)\n",
    "tplquad(F,0,np.pi,0,2*np.pi,0,1)"
   ]
  },
  {
   "cell_type": "markdown",
   "metadata": {},
   "source": [
    "Notice in `F` we calculate the Cartesian coordinates from `r,t,p` (shorthand for r, theta phi) and then pass these directly to `f` which is defined in Cartesian coordiantes. We also make sure to multiple `f` by $r^2\\sin(\\phi)$ in `F`.\n",
    "\n",
    "Of course, in cases where `f` has a simpler description in terms of spherical coordiantes it would be more sensible to implement that directly.\n",
    "\n",
    "**Exercises**\n",
    "\n",
    " - Try the example from the practice questions involving the integral $f(x,y,z)=1+z^2$ over the region described by the inequalities $0\\leq z\\leq 4$ and $x^2+y^2\\leq z$. Try calculating the result using both Cartesian and cylindrical coordinates.\n",
    " - Tey the example from the practice questions involving the integral of $f(x,y,z)=1+z^2$ over the region $G$ described by the inequalities $z\\geq 0$ and $1\\leq x^2+y^2+z^2\\leq 2$. Try calculating the result using both Cartesian and spherical coordinates.\n",
    " - Try some examples of your own."
   ]
  },
  {
   "cell_type": "code",
   "execution_count": null,
   "metadata": {},
   "outputs": [],
   "source": []
  },
  {
   "cell_type": "code",
   "execution_count": null,
   "metadata": {},
   "outputs": [],
   "source": []
  },
  {
   "cell_type": "code",
   "execution_count": null,
   "metadata": {},
   "outputs": [],
   "source": []
  }
 ],
 "metadata": {
  "kernelspec": {
   "display_name": "Python 3",
   "language": "python",
   "name": "python3"
  },
  "language_info": {
   "codemirror_mode": {
    "name": "ipython",
    "version": 3
   },
   "file_extension": ".py",
   "mimetype": "text/x-python",
   "name": "python",
   "nbconvert_exporter": "python",
   "pygments_lexer": "ipython3",
   "version": "3.8.8"
  }
 },
 "nbformat": 4,
 "nbformat_minor": 4
}
